{
 "cells": [
  {
   "cell_type": "code",
   "execution_count": 11,
   "id": "d383dba6",
   "metadata": {},
   "outputs": [
    {
     "name": "stdout",
     "output_type": "stream",
     "text": [
      "🌍 Estimated Emission: 7.08 kg CO₂e/day\n",
      "⚠️ OK – You're doing alright, but there's room to improve.\n",
      "💡 Tips to reduce your footprint:\n",
      "• Try carpooling or switching to electric vehicles\n",
      "• Reduce meat consumption, especially red meat\n",
      "• Turn off unused electronics and lights\n"
     ]
    },
    {
     "name": "stderr",
     "output_type": "stream",
     "text": [
      "c:\\Users\\rayiz\\Desktop\\Carbon Footprint Estimator\\env\\Lib\\site-packages\\sklearn\\utils\\validation.py:2749: UserWarning: X does not have valid feature names, but LinearRegression was fitted with feature names\n",
      "  warnings.warn(\n"
     ]
    }
   ],
   "source": [
    "import pandas as pd\n",
    "import numpy as np\n",
    "import pickle\n",
    "\n",
    "# Load model\n",
    "model = pickle.load(open(\"../training_model/carbon_model.pkl\", \"rb\"))\n",
    "\n",
    "# Load encoders\n",
    "df = pd.read_csv(\"../preprocessing/cleaned_data.csv\")\n",
    "le_cat = pd.factorize(df['Category'])[0]\n",
    "le_act = pd.factorize(df['Activity'])[0]\n",
    "\n",
    "# Example input\n",
    "category = 'Transportation'\n",
    "activity = 'Car – gasoline (commute)'\n",
    "daily_value = 30\n",
    "emission_factor = 0.241\n",
    "\n",
    "# Encode input safely\n",
    "cat_idx = df[df['Category'] == category].index\n",
    "act_idx = df[df['Activity'] == activity].index\n",
    "\n",
    "if len(cat_idx) == 0:\n",
    "\traise ValueError(f\"Category '{category}' not found in data.\")\n",
    "if len(act_idx) == 0:\n",
    "\traise ValueError(f\"Activity '{activity}' not found in data.\")\n",
    "\n",
    "category_encoded = pd.factorize(df['Category'])[0][cat_idx[0]]\n",
    "activity_encoded = pd.factorize(df['Activity'])[0][act_idx[0]]\n",
    "\n",
    "# Predict\n",
    "input_data = np.array([[category_encoded, activity_encoded, daily_value, emission_factor]])\n",
    "prediction = model.predict(input_data)[0]\n",
    "\n",
    "# Interpret emission level\n",
    "if prediction <= 5:\n",
    "    rating = \"✅ Good – You're living sustainably!\"\n",
    "    tips = [\n",
    "        \"Keep using public transport or walking\",\n",
    "        \"Continue using energy-efficient appliances\",\n",
    "        \"Maintain a plant-rich diet\"\n",
    "    ]\n",
    "elif prediction <= 15:\n",
    "    rating = \"⚠️ OK – You're doing alright, but there's room to improve.\"\n",
    "    tips = [\n",
    "        \"Try carpooling or switching to electric vehicles\",\n",
    "        \"Reduce meat consumption, especially red meat\",\n",
    "        \"Turn off unused electronics and lights\"\n",
    "    ]\n",
    "else:\n",
    "    rating = \"❌ Bad – Your footprint is high. Time to take action!\"\n",
    "    tips = [\n",
    "        \"Limit air travel and drive less\",\n",
    "        \"Switch to renewable energy sources\",\n",
    "        \"Compost organic waste and recycle properly\"\n",
    "    ]\n",
    "\n",
    "# Display result\n",
    "print(f\"🌍 Estimated Emission: {prediction:.2f} kg CO₂e/day\")\n",
    "print(rating)\n",
    "print(\"💡 Tips to reduce your footprint:\")\n",
    "for tip in tips:\n",
    "    print(f\"• {tip}\")\n"
   ]
  }
 ],
 "metadata": {
  "kernelspec": {
   "display_name": "env",
   "language": "python",
   "name": "python3"
  },
  "language_info": {
   "codemirror_mode": {
    "name": "ipython",
    "version": 3
   },
   "file_extension": ".py",
   "mimetype": "text/x-python",
   "name": "python",
   "nbconvert_exporter": "python",
   "pygments_lexer": "ipython3",
   "version": "3.13.0"
  }
 },
 "nbformat": 4,
 "nbformat_minor": 5
}
